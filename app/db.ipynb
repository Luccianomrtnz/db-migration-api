{
 "cells": [
  {
   "cell_type": "code",
   "execution_count": 2,
   "id": "b9b34d2e",
   "metadata": {},
   "outputs": [
    {
     "name": "stdout",
     "output_type": "stream",
     "text": [
      "Conexión exitosa a SQL Server: Microsoft SQL Server 2022 (RTM-CU19) (KB5054531) - 16.0.4195.2 (X64) \n",
      "\tApr 18 2025 13:42:14 \n",
      "\tCopyright (C) 2022 Microsoft Corporation\n",
      "\tDeveloper Edition (64-bit) on Linux (Ubuntu 22.04.5 LTS) <X64>\n"
     ]
    }
   ],
   "source": [
    "import json\n",
    "import pyodbc\n",
    "\n",
    "# Cargar configuración desde el archivo JSON\n",
    "with open(\"config.json\") as f:\n",
    "    config = json.load(f)\n",
    "\n",
    "# Establecer conexión con SQL Server\n",
    "conn = pyodbc.connect(\n",
    "    f'DRIVER={config[\"DRIVER\"]};'\n",
    "    f'SERVER={config[\"SERVER\"]};'\n",
    "    f'DATABASE={config[\"DATABASE\"]};'\n",
    "    f'UID={config[\"USER\"]};'\n",
    "    f'PWD={config[\"PASSWORD\"]};'\n",
    "    f'TrustServerCertificate={config[\"TrustServerCertificate\"]};'\n",
    ")\n",
    "\n",
    "# Ejecutar consulta de prueba\n",
    "cursor = conn.cursor()\n",
    "cursor.execute(\"SELECT @@VERSION\")\n",
    "row = cursor.fetchone()\n",
    "print(\"Conexión exitosa a SQL Server:\", row[0])\n"
   ]
  }
 ],
 "metadata": {
  "kernelspec": {
   "display_name": "Python 3",
   "language": "python",
   "name": "python3"
  },
  "language_info": {
   "codemirror_mode": {
    "name": "ipython",
    "version": 3
   },
   "file_extension": ".py",
   "mimetype": "text/x-python",
   "name": "python",
   "nbconvert_exporter": "python",
   "pygments_lexer": "ipython3",
   "version": "3.13.3"
  }
 },
 "nbformat": 4,
 "nbformat_minor": 5
}
